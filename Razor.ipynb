{
 "cells": [
  {
   "attachments": {},
   "cell_type": "markdown",
   "metadata": {},
   "source": [
    "# Dado un número entero, determinar si ese número corresponde al código ASCII de una vocal minúscula."
   ]
  },
  {
   "cell_type": "code",
   "execution_count": 4,
   "metadata": {},
   "outputs": [
    {
     "ename": "ValueError",
     "evalue": "invalid literal for int() with base 10: ''",
     "output_type": "error",
     "traceback": [
      "\u001b[1;31m---------------------------------------------------------------------------\u001b[0m",
      "\u001b[1;31mValueError\u001b[0m                                Traceback (most recent call last)",
      "Cell \u001b[1;32mIn[4], line 1\u001b[0m\n\u001b[1;32m----> 1\u001b[0m x\u001b[39m=\u001b[39m \u001b[39mint\u001b[39;49m (\u001b[39minput\u001b[39;49m(\u001b[39m\"\u001b[39;49m\u001b[39minserte un numero:\u001b[39;49m\u001b[39m\"\u001b[39;49m))\n\u001b[0;32m      2\u001b[0m \u001b[39mif\u001b[39;00m x\u001b[39m>\u001b[39m\u001b[39m=\u001b[39m\u001b[39m97\u001b[39m \u001b[39mand\u001b[39;00m x\u001b[39m<\u001b[39m\u001b[39m=\u001b[39m\u001b[39m122\u001b[39m: \n\u001b[0;32m      3\u001b[0m     \u001b[39mprint\u001b[39m (\u001b[39m\"\u001b[39m\u001b[39mel numero presentado pertenece a una letra o vocal minuscula en el codigo ASCII\u001b[39m\u001b[39m\"\u001b[39m)\n",
      "\u001b[1;31mValueError\u001b[0m: invalid literal for int() with base 10: ''"
     ]
    }
   ],
   "source": [
    "x= int (input(\"inserte un numero:\"))\n",
    "if x>=97 and x<=122: \n",
    "    print (\"el numero presentado pertenece a una letra o vocal minuscula en el codigo ASCII\")\n",
    "elif x< 97 and x>122:\n",
    "    print (\"el numero presentado no pertenece a una letra o vocal minuscula del codigo ASCII\")"
   ]
  },
  {
   "attachments": {},
   "cell_type": "markdown",
   "metadata": {},
   "source": [
    "# Dada una cadena de longitud 1, determine si el código ASCII de primera letra de la cadena es par o no."
   ]
  },
  {
   "cell_type": "code",
   "execution_count": null,
   "metadata": {},
   "outputs": [],
   "source": [
    "a = input(\"Ingrese una longitud por favor: \")\n",
    "y = ord(a[0])\n",
    "\n",
    "if y % 2 == 0:\n",
    "    print(\"El código ASCII de la primera letra es par.\")\n",
    "else:\n",
    "    print(\"El código ASCII de la primera letra es impar.\")"
   ]
  },
  {
   "attachments": {},
   "cell_type": "markdown",
   "metadata": {},
   "source": [
    "# Dado un carácter, construya un programa en Python para determinar si el carácter es un dígito o no.\n",
    "\n"
   ]
  },
  {
   "cell_type": "code",
   "execution_count": 5,
   "metadata": {},
   "outputs": [
    {
     "name": "stdout",
     "output_type": "stream",
     "text": [
      "no es un digito\n"
     ]
    }
   ],
   "source": [
    "x=input(\"Escriba en el siguiente espacio por favor:\")\n",
    "if x>= '0' and x<='9':\n",
    "    print(\"es un digito\")\n",
    "else:\n",
    "    print (\"no es un digito\")"
   ]
  },
  {
   "attachments": {},
   "cell_type": "markdown",
   "metadata": {},
   "source": [
    "# Dado un número real x, construya un programa que permita determinar si el número es positivo, negativo o cero. Para cada caso de debe imprimir el texto que se especifica a continuación:\n",
    "Positivo: \"El número x es positivo\"\n",
    "Negativo: \"El número x es negativo\"\n",
    "Cero (0): \"El número x es el neutro para la suma\"\n",
    "\n"
   ]
  },
  {
   "cell_type": "code",
   "execution_count": null,
   "metadata": {},
   "outputs": [],
   "source": [
    "x= float (input(\"escriba un numero por favor:\"))\n",
    "if x>0:\n",
    "    print (\"El número x es positivo\")\n",
    "elif x==0:\n",
    "    print (\"El número x es el neutro para la suma\")\n",
    "elif x<0:\n",
    "    print(\"El número x es negativo\")\n"
   ]
  },
  {
   "attachments": {},
   "cell_type": "markdown",
   "metadata": {},
   "source": [
    "# Dado el centro y el radio de un círculo, determinar si un punto de R2 pertenece o no al interior del círculo.\n",
    "\n"
   ]
  },
  {
   "cell_type": "code",
   "execution_count": 6,
   "metadata": {},
   "outputs": [
    {
     "ename": "ValueError",
     "evalue": "could not convert string to float: ''",
     "output_type": "error",
     "traceback": [
      "\u001b[1;31m---------------------------------------------------------------------------\u001b[0m",
      "\u001b[1;31mValueError\u001b[0m                                Traceback (most recent call last)",
      "Cell \u001b[1;32mIn[6], line 4\u001b[0m\n\u001b[0;32m      2\u001b[0m y\u001b[39m=\u001b[39m\u001b[39mfloat\u001b[39m\n\u001b[0;32m      3\u001b[0m r\u001b[39m=\u001b[39m\u001b[39mfloat\u001b[39m\n\u001b[1;32m----> 4\u001b[0m r\u001b[39m=\u001b[39m\u001b[39mfloat\u001b[39;49m(\u001b[39minput\u001b[39;49m(\u001b[39m\"\u001b[39;49m\u001b[39mEscriba el radio deseado: \u001b[39;49m\u001b[39m\"\u001b[39;49m))\n\u001b[0;32m      5\u001b[0m x\u001b[39m=\u001b[39m\u001b[39mfloat\u001b[39m(\u001b[39minput\u001b[39m(\u001b[39m\"\u001b[39m\u001b[39mEscriba el punto x: \u001b[39m\u001b[39m\"\u001b[39m))\n\u001b[0;32m      6\u001b[0m y\u001b[39m=\u001b[39m\u001b[39mfloat\u001b[39m(\u001b[39minput\u001b[39m(\u001b[39m\"\u001b[39m\u001b[39mEscriba el punto y: \u001b[39m\u001b[39m\"\u001b[39m))\n",
      "\u001b[1;31mValueError\u001b[0m: could not convert string to float: ''"
     ]
    }
   ],
   "source": [
    "x=float\n",
    "y=float\n",
    "r=float\n",
    "r=float(input(\"Escriba el radio deseado: \"))\n",
    "x=float(input(\"Escriba el punto x: \"))\n",
    "y=float(input(\"Escriba el punto y: \"))\n",
    "if (x*x + y*y <= r**2):\n",
    "  print(\"El punto marcado esta dentro del area del circulo \")\n",
    "else:\n",
    "  print(\"El punto marcado esta fuera del area del circulo\")  "
   ]
  },
  {
   "attachments": {},
   "cell_type": "markdown",
   "metadata": {},
   "source": [
    "# Dadas tres longitudes positivas, determinar si con esas longitudes se puede construir un triángulo.\n",
    "\n"
   ]
  },
  {
   "cell_type": "code",
   "execution_count": null,
   "metadata": {},
   "outputs": [],
   "source": [
    "a: float\n",
    "b: float\n",
    "c: float\n",
    "a= float(input(\"Escriba la medida del lado 1:\"))\n",
    "b= float(input(\"Escriba la medida del lado 2:\"))\n",
    "c= float(input(\"Escriba la medida del lado 3:\"))\n",
    "if a+b>c and a+c>c and b+c>a and a==b==c:\n",
    "    print(\"se puede hacer el triangulo\")\n",
    "else:\n",
    "    print(\"no se puede hace el triangulo\")"
   ]
  }
 ],
 "metadata": {
  "kernelspec": {
   "display_name": "Python 3",
   "language": "python",
   "name": "python3"
  },
  "language_info": {
   "codemirror_mode": {
    "name": "ipython",
    "version": 3
   },
   "file_extension": ".py",
   "mimetype": "text/x-python",
   "name": "python",
   "nbconvert_exporter": "python",
   "pygments_lexer": "ipython3",
   "version": "3.11.1"
  },
  "orig_nbformat": 4,
  "vscode": {
   "interpreter": {
    "hash": "14e940273dbe4a7a8d3281314f1cd487909094bd1d924c95c2ed1c7521e35cd6"
   }
  }
 },
 "nbformat": 4,
 "nbformat_minor": 2
}
